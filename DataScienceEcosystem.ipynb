{
 "cells": [
  {
   "cell_type": "code",
   "execution_count": null,
   "id": "4b9ac232-819d-461d-9c2e-ec4fd3a9875a",
   "metadata": {},
   "outputs": [],
   "source": [
    "# Data Science Tools and Ecosystem"
   ]
  },
  {
   "cell_type": "markdown",
   "id": "9ad3d010-3527-4f12-be60-0bae1e7a7f39",
   "metadata": {},
   "source": [
    "#### In this notebook, Data Science Tools and Ecosystem are summarized."
   ]
  },
  {
   "cell_type": "markdown",
   "id": "a207a1ab-ce0f-45fe-a35c-edd473c1892c",
   "metadata": {
    "jp-MarkdownHeadingCollapsed": true,
    "tags": []
   },
   "source": [
    "#### Some of the popular languages that Data Scientists use are:\n",
    "1. python\n",
    "2. R\n",
    "3. c++\n"
   ]
  },
  {
   "cell_type": "markdown",
   "id": "297b263c-b880-4685-aabb-93d0272160b9",
   "metadata": {},
   "source": [
    "#### Some of the commonly used libraries used by Data Scientists include:\n",
    "1. NumPy\n",
    "2. Pandas\n",
    "3. Matplotlib"
   ]
  },
  {
   "cell_type": "markdown",
   "id": "10b86564-e740-40f1-a1c4-dde5f74f713a",
   "metadata": {},
   "source": [
    "|Data Science Tools|\n",
    "|---|\n",
    "|Python|\n",
    "|Github|\n",
    "|JupyterLab|"
   ]
  },
  {
   "cell_type": "markdown",
   "id": "aa9f9b9f-6d53-4f7d-9536-95965b835de5",
   "metadata": {},
   "source": [
    "### Below are a few examples of evaluating arithmetic expressions in Python"
   ]
  },
  {
   "cell_type": "code",
   "execution_count": 3,
   "id": "ebdded13-43db-4593-a18b-0f562e14964a",
   "metadata": {},
   "outputs": [
    {
     "data": {
      "text/plain": [
       "17"
      ]
     },
     "execution_count": 3,
     "metadata": {},
     "output_type": "execute_result"
    }
   ],
   "source": [
    "## This a simple arithmetic expression to mutiply then add integers\n",
    "(3*4)+5"
   ]
  },
  {
   "cell_type": "code",
   "execution_count": 4,
   "id": "47cb6989-11d8-4774-bd4f-e3728f82c6f8",
   "metadata": {},
   "outputs": [
    {
     "data": {
      "text/plain": [
       "3.3333333333333335"
      ]
     },
     "execution_count": 4,
     "metadata": {},
     "output_type": "execute_result"
    }
   ],
   "source": [
    "## This will convert 200 minutes to hours by diving by 60\n",
    "200/60"
   ]
  },
  {
   "cell_type": "markdown",
   "id": "5c1d3924-2ea0-424f-b9f6-483c5f6c8962",
   "metadata": {},
   "source": [
    "**Objectives:**\n",
    "- List popular languages for Data Science\n",
    "- List popular libraries for Data Science\n",
    "- List popular Tools for Data Science"
   ]
  },
  {
   "cell_type": "markdown",
   "id": "b943a630-01ca-4aaa-99ac-1b252f582880",
   "metadata": {},
   "source": [
    "## Author\n",
    "#### Miaoling Huang"
   ]
  },
  {
   "cell_type": "code",
   "execution_count": null,
   "id": "5b373bbc-6b7d-408d-858f-ba681a21678d",
   "metadata": {},
   "outputs": [],
   "source": []
  }
 ],
 "metadata": {
  "kernelspec": {
   "display_name": "Python 3 (ipykernel)",
   "language": "python",
   "name": "python3"
  },
  "language_info": {
   "codemirror_mode": {
    "name": "ipython",
    "version": 3
   },
   "file_extension": ".py",
   "mimetype": "text/x-python",
   "name": "python",
   "nbconvert_exporter": "python",
   "pygments_lexer": "ipython3",
   "version": "3.9.12"
  }
 },
 "nbformat": 4,
 "nbformat_minor": 5
}
